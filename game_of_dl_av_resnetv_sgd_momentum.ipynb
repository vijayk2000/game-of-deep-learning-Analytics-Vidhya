{
  "nbformat": 4,
  "nbformat_minor": 0,
  "metadata": {
    "colab": {
      "name": " game_of_dl_av_resnetv2.ipynb",
      "version": "0.3.2",
      "provenance": [],
      "collapsed_sections": []
    },
    "kernelspec": {
      "name": "python3",
      "display_name": "Python 3"
    },
    "accelerator": "GPU"
  },
  "cells": [
    {
      "cell_type": "code",
      "metadata": {
        "id": "EWrX-wWRLrH2",
        "colab_type": "code",
        "colab": {}
      },
      "source": [
        "!pip install -U -q PyDrive\n",
        "\n",
        "from pydrive.auth import GoogleAuth\n",
        "from pydrive.drive import GoogleDrive\n",
        "from google.colab import auth\n",
        "from oauth2client.client import GoogleCredentials\n",
        "\n",
        "import os\n",
        "import pandas as pd\n",
        "\n",
        "auth.authenticate_user()\n",
        "gauth = GoogleAuth()\n",
        "gauth.credentials = GoogleCredentials.get_application_default()\n",
        "drive = GoogleDrive(gauth)"
      ],
      "execution_count": 0,
      "outputs": []
    },
    {
      "cell_type": "code",
      "metadata": {
        "id": "YtHGsHY0LyHt",
        "colab_type": "code",
        "outputId": "d8b9a7e7-ee22-4d08-a907-01fd4cfc254a",
        "colab": {
          "base_uri": "https://localhost:8080/",
          "height": 36
        }
      },
      "source": [
        "listed = drive.ListFile({'q': \"title contains 'train.zip' and '12YxbbpoPGa-4dUXq2BqFjERPBeh1T3qY' in parents\"}).GetList()\n",
        "for file in listed:\n",
        "  print('title {}, id {}'.format(file['title'], file['id']))"
      ],
      "execution_count": 0,
      "outputs": [
        {
          "output_type": "stream",
          "text": [
            "title train.zip, id 1zRzgwnzMs52MN674v6TFDOMrKi1jg6dN\n"
          ],
          "name": "stdout"
        }
      ]
    },
    {
      "cell_type": "code",
      "metadata": {
        "id": "KDYNiGtTL0Ik",
        "colab_type": "code",
        "outputId": "0f40ff6e-4c14-4340-8e06-1431ef158a9f",
        "colab": {
          "base_uri": "https://localhost:8080/",
          "height": 36
        }
      },
      "source": [
        "listed = drive.ListFile({'q': \"title contains 'test_ApKoW4T.csv' and '12YxbbpoPGa-4dUXq2BqFjERPBeh1T3qY' in parents\"}).GetList()\n",
        "for file in listed:\n",
        "  print('title {}, id {}'.format(file['title'], file['id']))"
      ],
      "execution_count": 0,
      "outputs": [
        {
          "output_type": "stream",
          "text": [
            "title test_ApKoW4T.csv, id 1Q-zq1KI5_O9edhQypA8NVIaPHSrMW7u1\n"
          ],
          "name": "stdout"
        }
      ]
    },
    {
      "cell_type": "code",
      "metadata": {
        "id": "D107moCpiM-d",
        "colab_type": "code",
        "outputId": "d3b6a21c-f8ef-4270-daad-1ed9e0b3a375",
        "colab": {
          "base_uri": "https://localhost:8080/",
          "height": 36
        }
      },
      "source": [
        "listed = drive.ListFile({'q': \"title contains 'sample_submission_ns2btKE' and '12YxbbpoPGa-4dUXq2BqFjERPBeh1T3qY' in parents\"}).GetList()\n",
        "for file in listed:\n",
        "  print('title {}, id {}'.format(file['title'], file['id']))"
      ],
      "execution_count": 0,
      "outputs": [
        {
          "output_type": "stream",
          "text": [
            "title sample_submission_ns2btKE.csv, id 1nBXWv_NNGO-HkO0FUia84vbzsM-DBQyP\n"
          ],
          "name": "stdout"
        }
      ]
    },
    {
      "cell_type": "code",
      "metadata": {
        "id": "n3sYs4hEL3Kb",
        "colab_type": "code",
        "colab": {}
      },
      "source": [
        "download_path = os.path.expanduser('/data')\n",
        "try:\n",
        "  os.makedirs(download_path)\n",
        "except FileExistsError:\n",
        "  pass\n",
        "\n",
        "output_file = os.path.join(download_path, 'train.zip')\n",
        "\n",
        "temp_file = drive.CreateFile({'id': '1zRzgwnzMs52MN674v6TFDOMrKi1jg6dN'})\n",
        "temp_file.GetContentFile(output_file)"
      ],
      "execution_count": 0,
      "outputs": []
    },
    {
      "cell_type": "code",
      "metadata": {
        "id": "B4uADBByL5cb",
        "colab_type": "code",
        "colab": {}
      },
      "source": [
        "download_path = os.path.expanduser('/data')\n",
        "try:\n",
        "  os.makedirs(download_path)\n",
        "except FileExistsError:\n",
        "  pass\n",
        "\n",
        "output_file = os.path.join(download_path, 'test_ApKoW4T.csv')\n",
        "\n",
        "temp_file = drive.CreateFile({'id': '1Q-zq1KI5_O9edhQypA8NVIaPHSrMW7u1'})\n",
        "temp_file.GetContentFile(output_file)"
      ],
      "execution_count": 0,
      "outputs": []
    },
    {
      "cell_type": "code",
      "metadata": {
        "id": "31vj95-gjVpj",
        "colab_type": "code",
        "colab": {}
      },
      "source": [
        "download_path = os.path.expanduser('/data')\n",
        "try:\n",
        "  os.makedirs(download_path)\n",
        "except FileExistsError:\n",
        "  pass\n",
        "\n",
        "output_file = os.path.join(download_path, 'sample_submission_ns2btKE.csv')\n",
        "\n",
        "temp_file = drive.CreateFile({'id': '1Q-zq1KI5_O9edhQypA8NVIaPHSrMW7u1'})\n",
        "temp_file.GetContentFile(output_file)"
      ],
      "execution_count": 0,
      "outputs": []
    },
    {
      "cell_type": "code",
      "metadata": {
        "id": "rY_uYltqSST-",
        "colab_type": "code",
        "outputId": "9bd6b79b-08c6-44bf-97dc-023b5f24c989",
        "colab": {
          "base_uri": "https://localhost:8080/",
          "height": 36
        }
      },
      "source": [
        "cd /data"
      ],
      "execution_count": 0,
      "outputs": [
        {
          "output_type": "stream",
          "text": [
            "/data\n"
          ],
          "name": "stdout"
        }
      ]
    },
    {
      "cell_type": "code",
      "metadata": {
        "id": "zXqCbkC6VZ4O",
        "colab_type": "code",
        "outputId": "60659c81-5b2f-4f73-c1ec-ff0f91791d40",
        "colab": {
          "base_uri": "https://localhost:8080/",
          "height": 54
        }
      },
      "source": [
        "!unzip train.zip -d /data"
      ],
      "execution_count": 0,
      "outputs": [
        {
          "output_type": "stream",
          "text": [
            "Archive:  train.zip\n",
            "replace /data/images/2870091.jpg? [y]es, [n]o, [A]ll, [N]one, [r]ename: N\n"
          ],
          "name": "stdout"
        }
      ]
    },
    {
      "cell_type": "code",
      "metadata": {
        "id": "ygoCgR4vVg81",
        "colab_type": "code",
        "outputId": "1c2b7a70-ff5f-458a-c708-82bd30896405",
        "colab": {
          "base_uri": "https://localhost:8080/",
          "height": 54
        }
      },
      "source": [
        "ls"
      ],
      "execution_count": 0,
      "outputs": [
        {
          "output_type": "stream",
          "text": [
            "\u001b[0m\u001b[01;34mimages\u001b[0m/    sample_submission_ns2btKE.csv  test.csv   train.zip\n",
            "\u001b[01;34m__MACOSX\u001b[0m/  test_ApKoW4T.csv               train.csv\n"
          ],
          "name": "stdout"
        }
      ]
    },
    {
      "cell_type": "code",
      "metadata": {
        "id": "O-pnWk73UPV4",
        "colab_type": "code",
        "colab": {}
      },
      "source": [
        "!mv test_ApKoW4T.csv test.csv"
      ],
      "execution_count": 0,
      "outputs": []
    },
    {
      "cell_type": "code",
      "metadata": {
        "id": "orcG1BRjVjyW",
        "colab_type": "code",
        "outputId": "ee21078d-e204-43e8-b602-e5c479f75f9a",
        "colab": {
          "base_uri": "https://localhost:8080/",
          "height": 36
        }
      },
      "source": [
        "cd images/"
      ],
      "execution_count": 0,
      "outputs": [
        {
          "output_type": "stream",
          "text": [
            "/data/images\n"
          ],
          "name": "stdout"
        }
      ]
    },
    {
      "cell_type": "code",
      "metadata": {
        "id": "ejhdrid1VzFG",
        "colab_type": "code",
        "outputId": "ce041302-48c1-425e-a361-86726ce9ad20",
        "colab": {
          "base_uri": "https://localhost:8080/",
          "height": 36
        }
      },
      "source": [
        "cd .."
      ],
      "execution_count": 0,
      "outputs": [
        {
          "output_type": "stream",
          "text": [
            "/data\n"
          ],
          "name": "stdout"
        }
      ]
    },
    {
      "cell_type": "code",
      "metadata": {
        "id": "QCE-oSy-rHva",
        "colab_type": "code",
        "colab": {}
      },
      "source": [
        "#import os\n",
        "#os.environ['CUDA_LAUNCH_BLOCKING'] = '0'"
      ],
      "execution_count": 0,
      "outputs": []
    },
    {
      "cell_type": "code",
      "metadata": {
        "id": "RuApXe0UV0F2",
        "colab_type": "code",
        "colab": {}
      },
      "source": [
        "import numpy as np\n",
        "import matplotlib.pyplot as plt\n",
        "import os\n",
        "from PIL import Image\n",
        "\n",
        "from skimage import io, transform\n",
        "import torch\n",
        "import torchvision\n",
        "import torchvision.transforms as transforms\n",
        "import torch.nn as nn\n",
        "import torch.optim as optim\n",
        "from torch.utils.data import DataLoader, Dataset, random_split\n",
        "from sklearn.model_selection import StratifiedShuffleSplit\n",
        "import time\n",
        "import copy\n",
        "from tqdm import tqdm_notebook, tqdm, trange"
      ],
      "execution_count": 0,
      "outputs": []
    },
    {
      "cell_type": "code",
      "metadata": {
        "id": "G0ff46k7X2MY",
        "colab_type": "code",
        "outputId": "96825a8c-c71c-4a47-cdc5-07e20f42bc98",
        "colab": {
          "base_uri": "https://localhost:8080/",
          "height": 36
        }
      },
      "source": [
        "device = torch.device(\"cuda:0\" if torch.cuda.is_available() else \"cpu\")\n",
        "print(device)\n"
      ],
      "execution_count": 0,
      "outputs": [
        {
          "output_type": "stream",
          "text": [
            "cuda:0\n"
          ],
          "name": "stdout"
        }
      ]
    },
    {
      "cell_type": "code",
      "metadata": {
        "id": "zn0PjJZtdyys",
        "colab_type": "code",
        "colab": {}
      },
      "source": [
        "transform = transforms.Compose([\n",
        "    \n",
        "    transforms.Normalize([0.5], [0.5]),\n",
        "    transforms.Resize(32,32),\n",
        "    transforms.ToTensor(),\n",
        "    \n",
        "    ])"
      ],
      "execution_count": 0,
      "outputs": []
    },
    {
      "cell_type": "code",
      "metadata": {
        "id": "k6FigepIDZPj",
        "colab_type": "code",
        "colab": {}
      },
      "source": [
        "class CustomDataset(Dataset):\n",
        "  def __init__(self, labels_df, img_path, transform=None):\n",
        "    self.labels_df=labels_df\n",
        "    self.img_path=img_path\n",
        "    self.transform=transform\n",
        "    \n",
        "  def __len__(self):\n",
        "    return  len(self.labels_df)\n",
        "  \n",
        "  def __getitem__(self,idx):\n",
        "    image_name=os.path.join(self.img_path, self.labels_df.image[idx])\n",
        "    #img=io.imread(image_name)\n",
        "    img=Image.open(image_name).convert('RGB')\n",
        "    label=self.labels_df.category[idx]\n",
        "    \n",
        "    \n",
        "    if self.transform:\n",
        "      img=self.transform(img)\n",
        "    return [img, label]  "
      ],
      "execution_count": 0,
      "outputs": []
    },
    {
      "cell_type": "code",
      "metadata": {
        "id": "8fjkc_Dih8M7",
        "colab_type": "code",
        "colab": {}
      },
      "source": [
        "\n",
        "  "
      ],
      "execution_count": 0,
      "outputs": []
    },
    {
      "cell_type": "code",
      "metadata": {
        "id": "hgpizyL1Fpvh",
        "colab_type": "code",
        "colab": {}
      },
      "source": [
        "data_root = '../data/'"
      ],
      "execution_count": 0,
      "outputs": []
    },
    {
      "cell_type": "code",
      "metadata": {
        "id": "a74H_1tLeeLV",
        "colab_type": "code",
        "colab": {}
      },
      "source": [
        "dataframe = pd.read_csv('train.csv')"
      ],
      "execution_count": 0,
      "outputs": []
    },
    {
      "cell_type": "code",
      "metadata": {
        "id": "jY4RyZ7XUu_b",
        "colab_type": "code",
        "colab": {}
      },
      "source": [
        "test=pd.read_csv('test.csv')"
      ],
      "execution_count": 0,
      "outputs": []
    },
    {
      "cell_type": "code",
      "metadata": {
        "id": "_jXPsldvC--r",
        "colab_type": "code",
        "colab": {}
      },
      "source": [
        "test['category']=[0]*len(test)"
      ],
      "execution_count": 0,
      "outputs": []
    },
    {
      "cell_type": "code",
      "metadata": {
        "id": "QjzO17uWG9km",
        "colab_type": "code",
        "outputId": "da0c1fe6-b326-4482-caf0-32beb57ae854",
        "colab": {
          "base_uri": "https://localhost:8080/",
          "height": 260
        }
      },
      "source": [
        "print(dataframe.head()), print(test.head())"
      ],
      "execution_count": 0,
      "outputs": [
        {
          "output_type": "stream",
          "text": [
            "         image  category\n",
            "0  2823080.jpg         1\n",
            "1  2870024.jpg         1\n",
            "2  2662125.jpg         2\n",
            "3  2900420.jpg         3\n",
            "4  2804883.jpg         2\n",
            "         image  category\n",
            "0  1007700.jpg         0\n",
            "1  1011369.jpg         0\n",
            "2  1051155.jpg         0\n",
            "3  1062001.jpg         0\n",
            "4  1069397.jpg         0\n"
          ],
          "name": "stdout"
        },
        {
          "output_type": "execute_result",
          "data": {
            "text/plain": [
              "(None, None)"
            ]
          },
          "metadata": {
            "tags": []
          },
          "execution_count": 23
        }
      ]
    },
    {
      "cell_type": "code",
      "metadata": {
        "id": "aQb7GF2G3N9c",
        "colab_type": "code",
        "colab": {}
      },
      "source": [
        "dataframe['category']=dataframe['category'].map(lambda x: x-1)"
      ],
      "execution_count": 0,
      "outputs": []
    },
    {
      "cell_type": "code",
      "metadata": {
        "id": "Qmx5_1bzPhAA",
        "colab_type": "code",
        "outputId": "154b33aa-f127-451c-ef17-60ac55eafd31",
        "colab": {
          "base_uri": "https://localhost:8080/",
          "height": 36
        }
      },
      "source": [
        "!ls"
      ],
      "execution_count": 0,
      "outputs": [
        {
          "output_type": "stream",
          "text": [
            "images\t__MACOSX  sample_submission_ns2btKE.csv  test.csv  train.csv  train.zip\n"
          ],
          "name": "stdout"
        }
      ]
    },
    {
      "cell_type": "code",
      "metadata": {
        "id": "GA9zUPHDwh-4",
        "colab_type": "code",
        "colab": {}
      },
      "source": [
        "batch_size=5\n",
        "mean=[0.5, 0.5, 0.5]\n",
        "std_dev=[0.5, 0.5, 0.5]\n",
        "#mean=[0.485, 0.456, 0.406]\n",
        "#std_dev=[0.229, 0.224, 0.225]\n",
        "trans_vis=transforms.Compose([transforms.Resize(224),\n",
        "                         transforms.RandomCrop(224),\n",
        "                         transforms.RandomHorizontalFlip(),\n",
        "                         transforms.ToTensor(),\n",
        "                         #transforms.Normalize(mean, std_dev)\n",
        "                         ])\n"
      ],
      "execution_count": 0,
      "outputs": []
    },
    {
      "cell_type": "code",
      "metadata": {
        "id": "tqsShJuNPyf1",
        "colab_type": "code",
        "colab": {}
      },
      "source": [
        "#train_ds=torchvision.datasets.ImageFolder(root='/data/', transform=trans_train)"
      ],
      "execution_count": 0,
      "outputs": []
    },
    {
      "cell_type": "code",
      "metadata": {
        "id": "QxEuVC0ZGU4C",
        "colab_type": "code",
        "outputId": "b98d23c0-e0ca-404b-b6d2-dabdccd6bd8d",
        "colab": {
          "base_uri": "https://localhost:8080/",
          "height": 36
        }
      },
      "source": [
        "\n",
        "vis_ds = CustomDataset(dataframe,os.path.join(data_root,'images'), transform=trans_vis)\n",
        "len(vis_ds)"
      ],
      "execution_count": 0,
      "outputs": [
        {
          "output_type": "execute_result",
          "data": {
            "text/plain": [
              "6252"
            ]
          },
          "metadata": {
            "tags": []
          },
          "execution_count": 28
        }
      ]
    },
    {
      "cell_type": "code",
      "metadata": {
        "id": "-lYdDmittFYZ",
        "colab_type": "code",
        "colab": {}
      },
      "source": [
        "visloader=DataLoader(vis_ds, batch_size=batch_size, shuffle=True)"
      ],
      "execution_count": 0,
      "outputs": []
    },
    {
      "cell_type": "code",
      "metadata": {
        "id": "qqR1PHrN-MlS",
        "colab_type": "code",
        "colab": {}
      },
      "source": [
        "def imshow(img, title):\n",
        "    #npimg = img.numpy() #/ 2 + 0.5\n",
        "    npimg = img.numpy()\n",
        "    plt.figure(figsize=(batch_size, 1))\n",
        "    plt.axis('off')\n",
        "    plt.imshow(np.transpose(npimg, (1, 2, 0)))\n",
        "    plt.title(title)\n",
        "    plt.show()"
      ],
      "execution_count": 0,
      "outputs": []
    },
    {
      "cell_type": "code",
      "metadata": {
        "id": "53bvRwj9lNVA",
        "colab_type": "code",
        "colab": {}
      },
      "source": [
        "def show_batch_images(dataloader):\n",
        "    images, labels = next(iter(dataloader))\n",
        "    img = torchvision.utils.make_grid(images)\n",
        "    imshow(img, title=[str(x.item()) for x in labels])"
      ],
      "execution_count": 0,
      "outputs": []
    },
    {
      "cell_type": "code",
      "metadata": {
        "id": "GAe3f7-hlPCA",
        "colab_type": "code",
        "outputId": "eed03bfb-3ba0-4c59-aeca-78dd5886bbf9",
        "colab": {
          "base_uri": "https://localhost:8080/",
          "height": 421
        }
      },
      "source": [
        "for i in range(4):\n",
        "    show_batch_images(visloader)"
      ],
      "execution_count": 0,
      "outputs": [
        {
          "output_type": "display_data",
          "data": {
            "image/png": "[encoded data removed]",
            "text/plain": [
              "<Figure size 360x72 with 1 Axes>"
            ]
          },
          "metadata": {
            "tags": []
          }
        },
        {
          "output_type": "display_data",
          "data": {
            "image/png": "[encoded data removed]",
            "text/plain": [
              "<Figure size 360x72 with 1 Axes>"
            ]
          },
          "metadata": {
            "tags": []
          }
        },
        {
          "output_type": "display_data",
          "data": {
            "image/png": "[encoded data removed]",
            "text/plain": [
              "<Figure size 360x72 with 1 Axes>"
            ]
          },
          "metadata": {
            "tags": []
          }
        },
        {
          "output_type": "display_data",
          "data": {
            "image/png": "[encoded data removed]",
            "text/plain": [
              "<Figure size 360x72 with 1 Axes>"
            ]
          },
          "metadata": {
            "tags": []
          }
        }
      ]
    },
    {
      "cell_type": "code",
      "metadata": {
        "id": "VYLPNttxOX5s",
        "colab_type": "code",
        "colab": {}
      },
      "source": [
        "from torchvision import models\n",
        "from torch.autograd import Variable"
      ],
      "execution_count": 0,
      "outputs": []
    },
    {
      "cell_type": "code",
      "metadata": {
        "id": "AEN0D-LmxFAn",
        "colab_type": "code",
        "colab": {}
      },
      "source": [
        "resnet = models.resnet50(pretrained=True)"
      ],
      "execution_count": 0,
      "outputs": []
    },
    {
      "cell_type": "code",
      "metadata": {
        "id": "xCYuBiKpdV7a",
        "colab_type": "code",
        "colab": {}
      },
      "source": [
        "for param in resnet.parameters():\n",
        "  param.requires_grad=False"
      ],
      "execution_count": 0,
      "outputs": []
    },
    {
      "cell_type": "code",
      "metadata": {
        "id": "DpbIhHbsROJX",
        "colab_type": "code",
        "outputId": "1164e9df-4c44-4ffe-df67-b8cbd263a1da",
        "colab": {
          "base_uri": "https://localhost:8080/",
          "height": 3308
        }
      },
      "source": [
        "print(resnet)"
      ],
      "execution_count": 0,
      "outputs": [
        {
          "output_type": "stream",
          "text": [
            "ResNet(\n",
            "  (conv1): Conv2d(3, 64, kernel_size=(7, 7), stride=(2, 2), padding=(3, 3), bias=False)\n",
            "  (bn1): BatchNorm2d(64, eps=1e-05, momentum=0.1, affine=True, track_running_stats=True)\n",
            "  (relu): ReLU(inplace)\n",
            "  (maxpool): MaxPool2d(kernel_size=3, stride=2, padding=1, dilation=1, ceil_mode=False)\n",
            "  (layer1): Sequential(\n",
            "    (0): Bottleneck(\n",
            "      (conv1): Conv2d(64, 64, kernel_size=(1, 1), stride=(1, 1), bias=False)\n",
            "      (bn1): BatchNorm2d(64, eps=1e-05, momentum=0.1, affine=True, track_running_stats=True)\n",
            "      (conv2): Conv2d(64, 64, kernel_size=(3, 3), stride=(1, 1), padding=(1, 1), bias=False)\n",
            "      (bn2): BatchNorm2d(64, eps=1e-05, momentum=0.1, affine=True, track_running_stats=True)\n",
            "      (conv3): Conv2d(64, 256, kernel_size=(1, 1), stride=(1, 1), bias=False)\n",
            "      (bn3): BatchNorm2d(256, eps=1e-05, momentum=0.1, affine=True, track_running_stats=True)\n",
            "      (relu): ReLU(inplace)\n",
            "      (downsample): Sequential(\n",
            "        (0): Conv2d(64, 256, kernel_size=(1, 1), stride=(1, 1), bias=False)\n",
            "        (1): BatchNorm2d(256, eps=1e-05, momentum=0.1, affine=True, track_running_stats=True)\n",
            "      )\n",
            "    )\n",
            "    (1): Bottleneck(\n",
            "      (conv1): Conv2d(256, 64, kernel_size=(1, 1), stride=(1, 1), bias=False)\n",
            "      (bn1): BatchNorm2d(64, eps=1e-05, momentum=0.1, affine=True, track_running_stats=True)\n",
            "      (conv2): Conv2d(64, 64, kernel_size=(3, 3), stride=(1, 1), padding=(1, 1), bias=False)\n",
            "      (bn2): BatchNorm2d(64, eps=1e-05, momentum=0.1, affine=True, track_running_stats=True)\n",
            "      (conv3): Conv2d(64, 256, kernel_size=(1, 1), stride=(1, 1), bias=False)\n",
            "      (bn3): BatchNorm2d(256, eps=1e-05, momentum=0.1, affine=True, track_running_stats=True)\n",
            "      (relu): ReLU(inplace)\n",
            "    )\n",
            "    (2): Bottleneck(\n",
            "      (conv1): Conv2d(256, 64, kernel_size=(1, 1), stride=(1, 1), bias=False)\n",
            "      (bn1): BatchNorm2d(64, eps=1e-05, momentum=0.1, affine=True, track_running_stats=True)\n",
            "      (conv2): Conv2d(64, 64, kernel_size=(3, 3), stride=(1, 1), padding=(1, 1), bias=False)\n",
            "      (bn2): BatchNorm2d(64, eps=1e-05, momentum=0.1, affine=True, track_running_stats=True)\n",
            "      (conv3): Conv2d(64, 256, kernel_size=(1, 1), stride=(1, 1), bias=False)\n",
            "      (bn3): BatchNorm2d(256, eps=1e-05, momentum=0.1, affine=True, track_running_stats=True)\n",
            "      (relu): ReLU(inplace)\n",
            "    )\n",
            "  )\n",
            "  (layer2): Sequential(\n",
            "    (0): Bottleneck(\n",
            "      (conv1): Conv2d(256, 128, kernel_size=(1, 1), stride=(1, 1), bias=False)\n",
            "      (bn1): BatchNorm2d(128, eps=1e-05, momentum=0.1, affine=True, track_running_stats=True)\n",
            "      (conv2): Conv2d(128, 128, kernel_size=(3, 3), stride=(2, 2), padding=(1, 1), bias=False)\n",
            "      (bn2): BatchNorm2d(128, eps=1e-05, momentum=0.1, affine=True, track_running_stats=True)\n",
            "      (conv3): Conv2d(128, 512, kernel_size=(1, 1), stride=(1, 1), bias=False)\n",
            "      (bn3): BatchNorm2d(512, eps=1e-05, momentum=0.1, affine=True, track_running_stats=True)\n",
            "      (relu): ReLU(inplace)\n",
            "      (downsample): Sequential(\n",
            "        (0): Conv2d(256, 512, kernel_size=(1, 1), stride=(2, 2), bias=False)\n",
            "        (1): BatchNorm2d(512, eps=1e-05, momentum=0.1, affine=True, track_running_stats=True)\n",
            "      )\n",
            "    )\n",
            "    (1): Bottleneck(\n",
            "      (conv1): Conv2d(512, 128, kernel_size=(1, 1), stride=(1, 1), bias=False)\n",
            "      (bn1): BatchNorm2d(128, eps=1e-05, momentum=0.1, affine=True, track_running_stats=True)\n",
            "      (conv2): Conv2d(128, 128, kernel_size=(3, 3), stride=(1, 1), padding=(1, 1), bias=False)\n",
            "      (bn2): BatchNorm2d(128, eps=1e-05, momentum=0.1, affine=True, track_running_stats=True)\n",
            "      (conv3): Conv2d(128, 512, kernel_size=(1, 1), stride=(1, 1), bias=False)\n",
            "      (bn3): BatchNorm2d(512, eps=1e-05, momentum=0.1, affine=True, track_running_stats=True)\n",
            "      (relu): ReLU(inplace)\n",
            "    )\n",
            "    (2): Bottleneck(\n",
            "      (conv1): Conv2d(512, 128, kernel_size=(1, 1), stride=(1, 1), bias=False)\n",
            "      (bn1): BatchNorm2d(128, eps=1e-05, momentum=0.1, affine=True, track_running_stats=True)\n",
            "      (conv2): Conv2d(128, 128, kernel_size=(3, 3), stride=(1, 1), padding=(1, 1), bias=False)\n",
            "      (bn2): BatchNorm2d(128, eps=1e-05, momentum=0.1, affine=True, track_running_stats=True)\n",
            "      (conv3): Conv2d(128, 512, kernel_size=(1, 1), stride=(1, 1), bias=False)\n",
            "      (bn3): BatchNorm2d(512, eps=1e-05, momentum=0.1, affine=True, track_running_stats=True)\n",
            "      (relu): ReLU(inplace)\n",
            "    )\n",
            "    (3): Bottleneck(\n",
            "      (conv1): Conv2d(512, 128, kernel_size=(1, 1), stride=(1, 1), bias=False)\n",
            "      (bn1): BatchNorm2d(128, eps=1e-05, momentum=0.1, affine=True, track_running_stats=True)\n",
            "      (conv2): Conv2d(128, 128, kernel_size=(3, 3), stride=(1, 1), padding=(1, 1), bias=False)\n",
            "      (bn2): BatchNorm2d(128, eps=1e-05, momentum=0.1, affine=True, track_running_stats=True)\n",
            "      (conv3): Conv2d(128, 512, kernel_size=(1, 1), stride=(1, 1), bias=False)\n",
            "      (bn3): BatchNorm2d(512, eps=1e-05, momentum=0.1, affine=True, track_running_stats=True)\n",
            "      (relu): ReLU(inplace)\n",
            "    )\n",
            "  )\n",
            "  (layer3): Sequential(\n",
            "    (0): Bottleneck(\n",
            "      (conv1): Conv2d(512, 256, kernel_size=(1, 1), stride=(1, 1), bias=False)\n",
            "      (bn1): BatchNorm2d(256, eps=1e-05, momentum=0.1, affine=True, track_running_stats=True)\n",
            "      (conv2): Conv2d(256, 256, kernel_size=(3, 3), stride=(2, 2), padding=(1, 1), bias=False)\n",
            "      (bn2): BatchNorm2d(256, eps=1e-05, momentum=0.1, affine=True, track_running_stats=True)\n",
            "      (conv3): Conv2d(256, 1024, kernel_size=(1, 1), stride=(1, 1), bias=False)\n",
            "      (bn3): BatchNorm2d(1024, eps=1e-05, momentum=0.1, affine=True, track_running_stats=True)\n",
            "      (relu): ReLU(inplace)\n",
            "      (downsample): Sequential(\n",
            "        (0): Conv2d(512, 1024, kernel_size=(1, 1), stride=(2, 2), bias=False)\n",
            "        (1): BatchNorm2d(1024, eps=1e-05, momentum=0.1, affine=True, track_running_stats=True)\n",
            "      )\n",
            "    )\n",
            "    (1): Bottleneck(\n",
            "      (conv1): Conv2d(1024, 256, kernel_size=(1, 1), stride=(1, 1), bias=False)\n",
            "      (bn1): BatchNorm2d(256, eps=1e-05, momentum=0.1, affine=True, track_running_stats=True)\n",
            "      (conv2): Conv2d(256, 256, kernel_size=(3, 3), stride=(1, 1), padding=(1, 1), bias=False)\n",
            "      (bn2): BatchNorm2d(256, eps=1e-05, momentum=0.1, affine=True, track_running_stats=True)\n",
            "      (conv3): Conv2d(256, 1024, kernel_size=(1, 1), stride=(1, 1), bias=False)\n",
            "      (bn3): BatchNorm2d(1024, eps=1e-05, momentum=0.1, affine=True, track_running_stats=True)\n",
            "      (relu): ReLU(inplace)\n",
            "    )\n",
            "    (2): Bottleneck(\n",
            "      (conv1): Conv2d(1024, 256, kernel_size=(1, 1), stride=(1, 1), bias=False)\n",
            "      (bn1): BatchNorm2d(256, eps=1e-05, momentum=0.1, affine=True, track_running_stats=True)\n",
            "      (conv2): Conv2d(256, 256, kernel_size=(3, 3), stride=(1, 1), padding=(1, 1), bias=False)\n",
            "      (bn2): BatchNorm2d(256, eps=1e-05, momentum=0.1, affine=True, track_running_stats=True)\n",
            "      (conv3): Conv2d(256, 1024, kernel_size=(1, 1), stride=(1, 1), bias=False)\n",
            "      (bn3): BatchNorm2d(1024, eps=1e-05, momentum=0.1, affine=True, track_running_stats=True)\n",
            "      (relu): ReLU(inplace)\n",
            "    )\n",
            "    (3): Bottleneck(\n",
            "      (conv1): Conv2d(1024, 256, kernel_size=(1, 1), stride=(1, 1), bias=False)\n",
            "      (bn1): BatchNorm2d(256, eps=1e-05, momentum=0.1, affine=True, track_running_stats=True)\n",
            "      (conv2): Conv2d(256, 256, kernel_size=(3, 3), stride=(1, 1), padding=(1, 1), bias=False)\n",
            "      (bn2): BatchNorm2d(256, eps=1e-05, momentum=0.1, affine=True, track_running_stats=True)\n",
            "      (conv3): Conv2d(256, 1024, kernel_size=(1, 1), stride=(1, 1), bias=False)\n",
            "      (bn3): BatchNorm2d(1024, eps=1e-05, momentum=0.1, affine=True, track_running_stats=True)\n",
            "      (relu): ReLU(inplace)\n",
            "    )\n",
            "    (4): Bottleneck(\n",
            "      (conv1): Conv2d(1024, 256, kernel_size=(1, 1), stride=(1, 1), bias=False)\n",
            "      (bn1): BatchNorm2d(256, eps=1e-05, momentum=0.1, affine=True, track_running_stats=True)\n",
            "      (conv2): Conv2d(256, 256, kernel_size=(3, 3), stride=(1, 1), padding=(1, 1), bias=False)\n",
            "      (bn2): BatchNorm2d(256, eps=1e-05, momentum=0.1, affine=True, track_running_stats=True)\n",
            "      (conv3): Conv2d(256, 1024, kernel_size=(1, 1), stride=(1, 1), bias=False)\n",
            "      (bn3): BatchNorm2d(1024, eps=1e-05, momentum=0.1, affine=True, track_running_stats=True)\n",
            "      (relu): ReLU(inplace)\n",
            "    )\n",
            "    (5): Bottleneck(\n",
            "      (conv1): Conv2d(1024, 256, kernel_size=(1, 1), stride=(1, 1), bias=False)\n",
            "      (bn1): BatchNorm2d(256, eps=1e-05, momentum=0.1, affine=True, track_running_stats=True)\n",
            "      (conv2): Conv2d(256, 256, kernel_size=(3, 3), stride=(1, 1), padding=(1, 1), bias=False)\n",
            "      (bn2): BatchNorm2d(256, eps=1e-05, momentum=0.1, affine=True, track_running_stats=True)\n",
            "      (conv3): Conv2d(256, 1024, kernel_size=(1, 1), stride=(1, 1), bias=False)\n",
            "      (bn3): BatchNorm2d(1024, eps=1e-05, momentum=0.1, affine=True, track_running_stats=True)\n",
            "      (relu): ReLU(inplace)\n",
            "    )\n",
            "  )\n",
            "  (layer4): Sequential(\n",
            "    (0): Bottleneck(\n",
            "      (conv1): Conv2d(1024, 512, kernel_size=(1, 1), stride=(1, 1), bias=False)\n",
            "      (bn1): BatchNorm2d(512, eps=1e-05, momentum=0.1, affine=True, track_running_stats=True)\n",
            "      (conv2): Conv2d(512, 512, kernel_size=(3, 3), stride=(2, 2), padding=(1, 1), bias=False)\n",
            "      (bn2): BatchNorm2d(512, eps=1e-05, momentum=0.1, affine=True, track_running_stats=True)\n",
            "      (conv3): Conv2d(512, 2048, kernel_size=(1, 1), stride=(1, 1), bias=False)\n",
            "      (bn3): BatchNorm2d(2048, eps=1e-05, momentum=0.1, affine=True, track_running_stats=True)\n",
            "      (relu): ReLU(inplace)\n",
            "      (downsample): Sequential(\n",
            "        (0): Conv2d(1024, 2048, kernel_size=(1, 1), stride=(2, 2), bias=False)\n",
            "        (1): BatchNorm2d(2048, eps=1e-05, momentum=0.1, affine=True, track_running_stats=True)\n",
            "      )\n",
            "    )\n",
            "    (1): Bottleneck(\n",
            "      (conv1): Conv2d(2048, 512, kernel_size=(1, 1), stride=(1, 1), bias=False)\n",
            "      (bn1): BatchNorm2d(512, eps=1e-05, momentum=0.1, affine=True, track_running_stats=True)\n",
            "      (conv2): Conv2d(512, 512, kernel_size=(3, 3), stride=(1, 1), padding=(1, 1), bias=False)\n",
            "      (bn2): BatchNorm2d(512, eps=1e-05, momentum=0.1, affine=True, track_running_stats=True)\n",
            "      (conv3): Conv2d(512, 2048, kernel_size=(1, 1), stride=(1, 1), bias=False)\n",
            "      (bn3): BatchNorm2d(2048, eps=1e-05, momentum=0.1, affine=True, track_running_stats=True)\n",
            "      (relu): ReLU(inplace)\n",
            "    )\n",
            "    (2): Bottleneck(\n",
            "      (conv1): Conv2d(2048, 512, kernel_size=(1, 1), stride=(1, 1), bias=False)\n",
            "      (bn1): BatchNorm2d(512, eps=1e-05, momentum=0.1, affine=True, track_running_stats=True)\n",
            "      (conv2): Conv2d(512, 512, kernel_size=(3, 3), stride=(1, 1), padding=(1, 1), bias=False)\n",
            "      (bn2): BatchNorm2d(512, eps=1e-05, momentum=0.1, affine=True, track_running_stats=True)\n",
            "      (conv3): Conv2d(512, 2048, kernel_size=(1, 1), stride=(1, 1), bias=False)\n",
            "      (bn3): BatchNorm2d(2048, eps=1e-05, momentum=0.1, affine=True, track_running_stats=True)\n",
            "      (relu): ReLU(inplace)\n",
            "    )\n",
            "  )\n",
            "  (avgpool): AdaptiveAvgPool2d(output_size=(1, 1))\n",
            "  (fc): Linear(in_features=2048, out_features=1000, bias=True)\n",
            ")\n"
          ],
          "name": "stdout"
        }
      ]
    },
    {
      "cell_type": "code",
      "metadata": {
        "id": "tyO6U8d7R1Uq",
        "colab_type": "code",
        "colab": {}
      },
      "source": [
        "num_classes=5"
      ],
      "execution_count": 0,
      "outputs": []
    },
    {
      "cell_type": "code",
      "metadata": {
        "id": "A19aPfHXdsSC",
        "colab_type": "code",
        "colab": {}
      },
      "source": [
        "#one way of changing final layer\n",
        "final_in_features=resnet.fc.in_features\n",
        "resnet.fc=nn.Linear(final_in_features, num_classes)"
      ],
      "execution_count": 0,
      "outputs": []
    },
    {
      "cell_type": "code",
      "metadata": {
        "id": "UzmEtMHfhMjk",
        "colab_type": "code",
        "outputId": "3b05252a-2fc6-4d29-ceea-8bdc942f538c",
        "colab": {
          "base_uri": "https://localhost:8080/",
          "height": 36
        }
      },
      "source": [
        "print(resnet.fc)"
      ],
      "execution_count": 0,
      "outputs": [
        {
          "output_type": "stream",
          "text": [
            "Linear(in_features=2048, out_features=5, bias=True)\n"
          ],
          "name": "stdout"
        }
      ]
    },
    {
      "cell_type": "code",
      "metadata": {
        "id": "tIFmRzzteciM",
        "colab_type": "code",
        "outputId": "4efdd26d-7d85-4de7-9727-f1063379fc2d",
        "colab": {
          "base_uri": "https://localhost:8080/",
          "height": 54
        }
      },
      "source": [
        "for param in resnet.parameters():\n",
        "  if param.requires_grad:\n",
        "    print(param.shape)"
      ],
      "execution_count": 0,
      "outputs": [
        {
          "output_type": "stream",
          "text": [
            "torch.Size([5, 2048])\n",
            "torch.Size([5])\n"
          ],
          "name": "stdout"
        }
      ]
    },
    {
      "cell_type": "code",
      "metadata": {
        "id": "2wFgm-nHRF4i",
        "colab_type": "code",
        "colab": {}
      },
      "source": [
        "#another way\n",
        "#final_in_features=vgg.classifier[6].in_features\n",
        "#mod_classifier=list(vgg.classifier.children())[:-1]  #remove the last layer\n",
        "#mod_classifier.extend([nn.Linear(final_in_features, num_classes)])\n",
        "#print(mod_classifier)"
      ],
      "execution_count": 0,
      "outputs": []
    },
    {
      "cell_type": "code",
      "metadata": {
        "id": "SZdK3IDwSvSK",
        "colab_type": "code",
        "colab": {}
      },
      "source": [
        "bat_size=64\n",
        "\n",
        "mean=[0.485, 0.456, 0.406]\n",
        "std_dev=[0.229, 0.224, 0.225]\n",
        "trans_train=transforms.Compose([transforms.Resize(224),\n",
        "                                \n",
        "                         transforms.RandomCrop(224),\n",
        "                         transforms.RandomHorizontalFlip(),\n",
        "                         #transforms.RandomRotation(10),       \n",
        "                         #transforms.Grayscale(num_output_channels=3),       \n",
        "                         transforms.ToTensor(),\n",
        "                         transforms.Normalize(mean, std_dev)\n",
        "                         ])\n",
        "\n",
        "\n",
        "trans_test=transforms.Compose([transforms.Resize(224),\n",
        "                         \n",
        "                         transforms.RandomCrop(224),\n",
        "                         #transforms.Grayscale(num_output_channels=3),      \n",
        "                         transforms.ToTensor(),\n",
        "                         transforms.Normalize(mean, std_dev)\n",
        "                         ])\n",
        "trans_val=trans_test"
      ],
      "execution_count": 0,
      "outputs": []
    },
    {
      "cell_type": "code",
      "metadata": {
        "id": "c5IHx9HnEWd0",
        "colab_type": "code",
        "colab": {}
      },
      "source": [
        "stratified_split = StratifiedShuffleSplit(n_splits=1, test_size=0.1, random_state=0)\n",
        "train_split_idx, val_split_idx = next(iter(stratified_split.split(dataframe.image, dataframe.category)))\n",
        "train_data = dataframe.iloc[train_split_idx].reset_index()\n",
        "validation_data = dataframe.iloc[val_split_idx].reset_index()"
      ],
      "execution_count": 0,
      "outputs": []
    },
    {
      "cell_type": "code",
      "metadata": {
        "id": "MEgxvkQ2qdP_",
        "colab_type": "code",
        "colab": {}
      },
      "source": [
        "#train_size = int(0.9 * len(dataframe))\n",
        "#val_size = int(len(dataframe) - train_size)\n",
        "\n",
        "#train_data, validation_data = torch.utils.data.random_split(dataframe, [train_size, val_size])"
      ],
      "execution_count": 0,
      "outputs": []
    },
    {
      "cell_type": "code",
      "metadata": {
        "id": "35ogAUsnTiY7",
        "colab_type": "code",
        "outputId": "87fc31e4-9970-4e21-ff0a-fd71a3c3e03b",
        "colab": {
          "base_uri": "https://localhost:8080/",
          "height": 54
        }
      },
      "source": [
        "train_ds = CustomDataset(train_data,os.path.join(data_root,'images'), transform=trans_train)\n",
        "print(len(train_ds))\n",
        "\n",
        "val_ds = CustomDataset(validation_data, os.path.join(data_root, 'images'), transform=trans_val)\n",
        "print(len(val_ds))"
      ],
      "execution_count": 0,
      "outputs": [
        {
          "output_type": "stream",
          "text": [
            "5626\n",
            "626\n"
          ],
          "name": "stdout"
        }
      ]
    },
    {
      "cell_type": "code",
      "metadata": {
        "id": "az_QmCUDUZAL",
        "colab_type": "code",
        "outputId": "162b698e-c3f5-4f20-ed0d-d6e3474583e3",
        "colab": {
          "base_uri": "https://localhost:8080/",
          "height": 36
        }
      },
      "source": [
        "test_ds = CustomDataset(test,os.path.join(data_root,'images'), transform=trans_test)\n",
        "len(test_ds)"
      ],
      "execution_count": 0,
      "outputs": [
        {
          "output_type": "execute_result",
          "data": {
            "text/plain": [
              "2680"
            ]
          },
          "metadata": {
            "tags": []
          },
          "execution_count": 119
        }
      ]
    },
    {
      "cell_type": "code",
      "metadata": {
        "id": "WXP1A2W3VjHL",
        "colab_type": "code",
        "colab": {}
      },
      "source": [
        "trainloader=DataLoader(train_ds, batch_size=bat_size, shuffle=True)\n",
        "valloader=DataLoader(val_ds, batch_size=bat_size, shuffle=False)\n",
        "testloader=DataLoader(test_ds, batch_size=bat_size, shuffle=False)"
      ],
      "execution_count": 0,
      "outputs": []
    },
    {
      "cell_type": "code",
      "metadata": {
        "id": "Wsq_WgNFXoIJ",
        "colab_type": "code",
        "colab": {}
      },
      "source": [
        "resnet = resnet.to(device)\n",
        "loss_fn = nn.CrossEntropyLoss()\n",
        "#opt = optim.Adamax(resnet.parameters(), lr=0.01)\n",
        "opt=optim.SGD(resnet.parameters(), lr=1e-4, momentum=0.9)"
      ],
      "execution_count": 0,
      "outputs": []
    },
    {
      "cell_type": "code",
      "metadata": {
        "id": "Lhdf0Rc4Vurx",
        "colab_type": "code",
        "colab": {}
      },
      "source": [
        "def evaluation(dataloader, model):\n",
        "    total, correct = 0, 0\n",
        "    for data in dataloader:\n",
        "        inputs, labels = data\n",
        "        inputs, labels = inputs.to(device), labels.to(device)\n",
        "        outputs = model(inputs)\n",
        "        _, pred = torch.max(outputs.data, 1)\n",
        "        total += labels.size(0)\n",
        "        correct += (pred == labels).sum().item()\n",
        "    return 100 * correct / total"
      ],
      "execution_count": 0,
      "outputs": []
    },
    {
      "cell_type": "code",
      "metadata": {
        "id": "JvRCtGhsYEfo",
        "colab_type": "code",
        "outputId": "9f3c553d-fff6-4e5b-b363-e41892401932",
        "colab": {
          "base_uri": "https://localhost:8080/",
          "height": 1952
        }
      },
      "source": [
        "loss_epoch_arr = []\n",
        "max_epochs = 40\n",
        "min_loss = 1000\n",
        "\n",
        "n_iters = np.ceil(len(train_ds)/batch_size)\n",
        "\n",
        "for epoch in range(max_epochs):\n",
        "\n",
        "    for i, data in enumerate(trainloader, 0):\n",
        "      \n",
        "      \n",
        "\n",
        "        inputs, labels = data\n",
        "        inputs, labels = inputs.to(device), labels.to(device)\n",
        "\n",
        "        opt.zero_grad()\n",
        "\n",
        "        outputs = resnet(inputs)\n",
        "        loss = loss_fn(outputs, labels)\n",
        "        loss.backward()\n",
        "        opt.step()\n",
        "        \n",
        "        if min_loss > loss.item():\n",
        "          min_loss=loss.item()\n",
        "          best_model_sgd=copy.deepcopy(resnet.state_dict())\n",
        "          print('Min loss %0.02f' % min_loss)\n",
        "                  \n",
        "        \n",
        "        if i % 100 == 0:\n",
        "            print('Iteration: %d/%d, Loss: %0.2f' % (i, n_iters, loss.item()))\n",
        "            \n",
        "        del inputs, labels, outputs\n",
        "        torch.cuda.empty_cache()\n",
        "        \n",
        "    loss_epoch_arr.append(loss.item())\n",
        "        \n",
        "    print('Epoch: %d/%d, Val acc: %0.2f, Train acc: %0.2f' % (\n",
        "        epoch, max_epochs, \n",
        "        evaluation(valloader, resnet),\n",
        "        evaluation(trainloader, resnet)))\n",
        "    \n",
        "    \n",
        "plt.plot(loss_epoch_arr)\n",
        "plt.show()"
      ],
      "execution_count": 129,
      "outputs": [
        {
          "output_type": "stream",
          "text": [
            "Min loss 0.18\n",
            "Iteration: 0/1126, Loss: 0.18\n",
            "Min loss 0.16\n",
            "Min loss 0.12\n",
            "Epoch: 0/40, Val acc: 81.63, Train acc: 89.02\n",
            "Iteration: 0/1126, Loss: 0.29\n",
            "Epoch: 1/40, Val acc: 82.59, Train acc: 89.37\n",
            "Iteration: 0/1126, Loss: 0.29\n",
            "Min loss 0.11\n",
            "Epoch: 2/40, Val acc: 81.79, Train acc: 89.87\n",
            "Iteration: 0/1126, Loss: 0.15\n",
            "Epoch: 3/40, Val acc: 81.79, Train acc: 89.83\n",
            "Iteration: 0/1126, Loss: 0.24\n",
            "Min loss 0.11\n",
            "Epoch: 4/40, Val acc: 82.59, Train acc: 89.05\n",
            "Iteration: 0/1126, Loss: 0.34\n",
            "Epoch: 5/40, Val acc: 83.23, Train acc: 89.42\n",
            "Iteration: 0/1126, Loss: 0.23\n",
            "Epoch: 6/40, Val acc: 81.47, Train acc: 89.69\n",
            "Iteration: 0/1126, Loss: 0.30\n",
            "Epoch: 7/40, Val acc: 84.03, Train acc: 88.98\n",
            "Iteration: 0/1126, Loss: 0.27\n",
            "Min loss 0.09\n",
            "Epoch: 8/40, Val acc: 82.43, Train acc: 89.21\n",
            "Iteration: 0/1126, Loss: 0.22\n",
            "Min loss 0.09\n",
            "Epoch: 9/40, Val acc: 83.39, Train acc: 89.30\n",
            "Iteration: 0/1126, Loss: 0.29\n",
            "Epoch: 10/40, Val acc: 83.71, Train acc: 89.25\n",
            "Iteration: 0/1126, Loss: 0.28\n",
            "Epoch: 11/40, Val acc: 82.11, Train acc: 88.93\n",
            "Iteration: 0/1126, Loss: 0.27\n",
            "Epoch: 12/40, Val acc: 80.03, Train acc: 89.71\n",
            "Iteration: 0/1126, Loss: 0.32\n",
            "Epoch: 13/40, Val acc: 83.07, Train acc: 89.25\n",
            "Iteration: 0/1126, Loss: 0.17\n",
            "Epoch: 14/40, Val acc: 85.14, Train acc: 89.74\n",
            "Iteration: 0/1126, Loss: 0.37\n",
            "Epoch: 15/40, Val acc: 83.55, Train acc: 89.73\n",
            "Iteration: 0/1126, Loss: 0.22\n",
            "Min loss 0.09\n",
            "Epoch: 16/40, Val acc: 82.11, Train acc: 89.48\n",
            "Iteration: 0/1126, Loss: 0.24\n",
            "Epoch: 17/40, Val acc: 83.07, Train acc: 89.98\n",
            "Iteration: 0/1126, Loss: 0.11\n",
            "Epoch: 18/40, Val acc: 85.14, Train acc: 89.16\n",
            "Iteration: 0/1126, Loss: 0.23\n",
            "Epoch: 19/40, Val acc: 83.55, Train acc: 89.87\n",
            "Iteration: 0/1126, Loss: 0.39\n",
            "Epoch: 20/40, Val acc: 84.19, Train acc: 89.62\n",
            "Iteration: 0/1126, Loss: 0.32\n",
            "Epoch: 21/40, Val acc: 82.11, Train acc: 89.57\n",
            "Iteration: 0/1126, Loss: 0.23\n",
            "Epoch: 22/40, Val acc: 82.59, Train acc: 89.34\n",
            "Iteration: 0/1126, Loss: 0.25\n",
            "Epoch: 23/40, Val acc: 82.11, Train acc: 89.67\n",
            "Iteration: 0/1126, Loss: 0.21\n",
            "Min loss 0.09\n",
            "Epoch: 24/40, Val acc: 81.47, Train acc: 90.19\n",
            "Iteration: 0/1126, Loss: 0.22\n",
            "Epoch: 25/40, Val acc: 83.87, Train acc: 89.96\n",
            "Iteration: 0/1126, Loss: 0.27\n",
            "Epoch: 26/40, Val acc: 83.87, Train acc: 89.42\n",
            "Iteration: 0/1126, Loss: 0.33\n",
            "Epoch: 27/40, Val acc: 81.47, Train acc: 89.78\n",
            "Iteration: 0/1126, Loss: 0.43\n",
            "Epoch: 28/40, Val acc: 84.50, Train acc: 89.09\n",
            "Iteration: 0/1126, Loss: 0.19\n",
            "Epoch: 29/40, Val acc: 82.27, Train acc: 89.62\n",
            "Iteration: 0/1126, Loss: 0.29\n",
            "Epoch: 30/40, Val acc: 81.63, Train acc: 88.77\n",
            "Iteration: 0/1126, Loss: 0.46\n",
            "Epoch: 31/40, Val acc: 81.31, Train acc: 89.60\n",
            "Iteration: 0/1126, Loss: 0.19\n",
            "Epoch: 32/40, Val acc: 81.31, Train acc: 89.94\n",
            "Iteration: 0/1126, Loss: 0.19\n",
            "Epoch: 33/40, Val acc: 84.19, Train acc: 90.33\n",
            "Iteration: 0/1126, Loss: 0.21\n",
            "Epoch: 34/40, Val acc: 82.43, Train acc: 89.69\n",
            "Iteration: 0/1126, Loss: 0.21\n",
            "Epoch: 35/40, Val acc: 82.27, Train acc: 89.51\n",
            "Iteration: 0/1126, Loss: 0.19\n",
            "Epoch: 36/40, Val acc: 83.71, Train acc: 90.08\n",
            "Iteration: 0/1126, Loss: 0.23\n",
            "Epoch: 37/40, Val acc: 81.31, Train acc: 89.98\n",
            "Iteration: 0/1126, Loss: 0.24\n",
            "Epoch: 38/40, Val acc: 83.55, Train acc: 89.42\n",
            "Iteration: 0/1126, Loss: 0.19\n",
            "Min loss 0.09\n",
            "Epoch: 39/40, Val acc: 83.87, Train acc: 89.89\n"
          ],
          "name": "stdout"
        },
        {
          "output_type": "display_data",
          "data": {
            "image/png": "[encoded data removed]",
            "text/plain": [
              "<Figure size 432x288 with 1 Axes>"
            ]
          },
          "metadata": {
            "tags": []
          }
        }
      ]
    },
    {
      "cell_type": "code",
      "metadata": {
        "id": "9xp4XMXEIk0o",
        "colab_type": "code",
        "outputId": "c497a43c-2d86-43fa-8790-729009a838b4",
        "colab": {
          "base_uri": "https://localhost:8080/",
          "height": 54
        }
      },
      "source": [
        "resnet.load_state_dict(best_model_sgd)\n",
        "print(evaluation(valloader, resnet))\n",
        "print(evaluation(trainloader, resnet))"
      ],
      "execution_count": 130,
      "outputs": [
        {
          "output_type": "stream",
          "text": [
            "84.34504792332268\n",
            "89.79736935655883\n"
          ],
          "name": "stdout"
        }
      ]
    },
    {
      "cell_type": "code",
      "metadata": {
        "id": "8Pn3wSpESVQa",
        "colab_type": "code",
        "colab": {}
      },
      "source": [
        "resnet.eval()\n",
        "with torch.no_grad():\n",
        "  pred_op=[]\n",
        "  for inputs, labels in  testloader:\n",
        "    inputs, labels = inputs.to(device), labels.to(device)\n",
        "    inputs=Variable(inputs)\n",
        "    output=resnet(inputs)\n",
        "    pred = output.data.max(1)[1]\n",
        "    pred=torch.argmax(output, 1)\n",
        "    pred=pred.data.cpu().numpy().argmax()\n",
        "    pred_op.append(pred)\n",
        "    \n",
        "    #pred=output.data.numpy().argmax()\n",
        "    "
      ],
      "execution_count": 0,
      "outputs": []
    },
    {
      "cell_type": "code",
      "metadata": {
        "id": "eC_2txrErICx",
        "colab_type": "code",
        "colab": {}
      },
      "source": [
        "def pred_image(image):\n",
        "  resnet.eval()\n",
        "  torch.no_grad()\n",
        "  input=Variable(image)\n",
        "  input=input.to(device)\n",
        "  output=resnet(input)\n",
        "  index=output.data.cpu().numpy().argmax()\n",
        "  return index  \n",
        "  "
      ],
      "execution_count": 0,
      "outputs": []
    },
    {
      "cell_type": "code",
      "metadata": {
        "id": "rSeiu1Y9z9kd",
        "colab_type": "code",
        "colab": {}
      },
      "source": [
        "!cp sample_submission_ns2btKE.csv submission.csv"
      ],
      "execution_count": 0,
      "outputs": []
    },
    {
      "cell_type": "code",
      "metadata": {
        "id": "q_7yZKWtsc3V",
        "colab_type": "code",
        "colab": {}
      },
      "source": [
        "\n",
        "\n",
        "\n",
        "def test_submission(model):\n",
        "  sub_outputs=[]\n",
        "  output_df=[]\n",
        "  model.train(False)\n",
        "  \n",
        "  for data in testloader:\n",
        "    inputs, labels=data\n",
        "    inputs, labels = Variable(inputs.to(device)), Variable(labels.to(device))\n",
        "    inputs=Variable(inputs)\n",
        "    labels=Variable(labels)\n",
        "    \n",
        "    outputs=model(inputs)\n",
        "    #preds=outputs.data.max(1)[1]\n",
        "    _, preds=torch.max(outputs.data,1)\n",
        "    sub_outputs.append(preds.data.cpu().numpy())\n",
        "    \n",
        "  sub_outputs=np.concatenate(sub_outputs)\n",
        "  \n",
        "  #for idx, row in enumerate(sub_outputs.astype(float)):\n",
        "  # sub_outputs[idx] = np.exp(row)/np.sum(np.exp(row))\n",
        "    \n",
        "  output_df.append(sub_outputs) \n",
        "  \n",
        "  return pd.DataFrame(output_df).T\n",
        "    \n",
        "    "
      ],
      "execution_count": 0,
      "outputs": []
    },
    {
      "cell_type": "code",
      "metadata": {
        "id": "dHQTof9T2ws0",
        "colab_type": "code",
        "colab": {}
      },
      "source": [
        "s=test_submission(resnet)"
      ],
      "execution_count": 0,
      "outputs": []
    },
    {
      "cell_type": "code",
      "metadata": {
        "id": "6JZRteNm2gp3",
        "colab_type": "code",
        "colab": {}
      },
      "source": [
        "submission=pd.concat([test['image'], s], axis=1 )\n",
        "submission.columns=['image', 'category']"
      ],
      "execution_count": 0,
      "outputs": []
    },
    {
      "cell_type": "code",
      "metadata": {
        "id": "QjxrMSHc3eOM",
        "colab_type": "code",
        "colab": {}
      },
      "source": [
        "submission['category']=submission['category'].map(lambda x: x+1)"
      ],
      "execution_count": 0,
      "outputs": []
    },
    {
      "cell_type": "code",
      "metadata": {
        "id": "tR4ABDzwzdJh",
        "colab_type": "code",
        "outputId": "cdd04207-2445-40fc-eb7c-ca078adf5feb",
        "colab": {
          "base_uri": "https://localhost:8080/",
          "height": 206
        }
      },
      "source": [
        "submission.head()"
      ],
      "execution_count": 138,
      "outputs": [
        {
          "output_type": "execute_result",
          "data": {
            "text/html": [
              "<div>\n",
              "<style scoped>\n",
              "    .dataframe tbody tr th:only-of-type {\n",
              "        vertical-align: middle;\n",
              "    }\n",
              "\n",
              "    .dataframe tbody tr th {\n",
              "        vertical-align: top;\n",
              "    }\n",
              "\n",
              "    .dataframe thead th {\n",
              "        text-align: right;\n",
              "    }\n",
              "</style>\n",
              "<table border=\"1\" class=\"dataframe\">\n",
              "  <thead>\n",
              "    <tr style=\"text-align: right;\">\n",
              "      <th></th>\n",
              "      <th>image</th>\n",
              "      <th>category</th>\n",
              "    </tr>\n",
              "  </thead>\n",
              "  <tbody>\n",
              "    <tr>\n",
              "      <th>0</th>\n",
              "      <td>1007700.jpg</td>\n",
              "      <td>4</td>\n",
              "    </tr>\n",
              "    <tr>\n",
              "      <th>1</th>\n",
              "      <td>1011369.jpg</td>\n",
              "      <td>4</td>\n",
              "    </tr>\n",
              "    <tr>\n",
              "      <th>2</th>\n",
              "      <td>1051155.jpg</td>\n",
              "      <td>4</td>\n",
              "    </tr>\n",
              "    <tr>\n",
              "      <th>3</th>\n",
              "      <td>1062001.jpg</td>\n",
              "      <td>2</td>\n",
              "    </tr>\n",
              "    <tr>\n",
              "      <th>4</th>\n",
              "      <td>1069397.jpg</td>\n",
              "      <td>4</td>\n",
              "    </tr>\n",
              "  </tbody>\n",
              "</table>\n",
              "</div>"
            ],
            "text/plain": [
              "         image  category\n",
              "0  1007700.jpg         4\n",
              "1  1011369.jpg         4\n",
              "2  1051155.jpg         4\n",
              "3  1062001.jpg         2\n",
              "4  1069397.jpg         4"
            ]
          },
          "metadata": {
            "tags": []
          },
          "execution_count": 138
        }
      ]
    },
    {
      "cell_type": "code",
      "metadata": {
        "id": "syUZZqY1lclp",
        "colab_type": "code",
        "colab": {}
      },
      "source": [
        "submission.to_csv('submission.csv', index=False)"
      ],
      "execution_count": 0,
      "outputs": []
    }
  ]
}